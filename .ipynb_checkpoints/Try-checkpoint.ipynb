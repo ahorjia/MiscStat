{
 "cells": [
  {
   "cell_type": "code",
   "execution_count": 19,
   "metadata": {
    "collapsed": true
   },
   "outputs": [],
   "source": [
    "import survey\n",
    "import numpy as np\n",
    "import thinkstats as ts"
   ]
  },
  {
   "cell_type": "code",
   "execution_count": 1,
   "metadata": {
    "collapsed": false
   },
   "outputs": [
    {
     "name": "stdout",
     "output_type": "stream",
     "text": [
      "('Number of pregnancies', 13593)\n"
     ]
    }
   ],
   "source": [
    "table = survey.Pregnancies()\n",
    "table.ReadRecords()\n",
    "print('Number of pregnancies', len(table.records))"
   ]
  },
  {
   "cell_type": "code",
   "execution_count": 2,
   "metadata": {
    "collapsed": false
   },
   "outputs": [
    {
     "name": "stdout",
     "output_type": "stream",
     "text": [
      "9148\n"
     ]
    }
   ],
   "source": [
    "print len([rec for rec in table.records if rec.outcome == 1])"
   ]
  },
  {
   "cell_type": "code",
   "execution_count": 3,
   "metadata": {
    "collapsed": false
   },
   "outputs": [
    {
     "name": "stdout",
     "output_type": "stream",
     "text": [
      "4413\n",
      "4735\n"
     ]
    }
   ],
   "source": [
    "print len([rec for rec in table.records if rec.outcome ==1 and rec.birthord == 1])\n",
    "print len([rec for rec in table.records if rec.outcome ==1 and rec.birthord != 1])"
   ]
  },
  {
   "cell_type": "code",
   "execution_count": 4,
   "metadata": {
    "collapsed": false
   },
   "outputs": [
    {
     "data": {
      "text/plain": [
       "4735"
      ]
     },
     "execution_count": 4,
     "metadata": {},
     "output_type": "execute_result"
    }
   ],
   "source": [
    "13593 - 4445 - 4413"
   ]
  },
  {
   "cell_type": "code",
   "execution_count": 15,
   "metadata": {
    "collapsed": false
   },
   "outputs": [
    {
     "name": "stdout",
     "output_type": "stream",
     "text": [
      "38.6009517335\n",
      "38.5229144667\n"
     ]
    }
   ],
   "source": [
    "print np.mean([rec.prglength for rec in table.records if rec.outcome == 1 and rec.birthord == 1])\n",
    "print np.mean([rec.prglength for rec in table.records if rec.outcome == 1 and rec.birthord != 1])"
   ]
  },
  {
   "cell_type": "code",
   "execution_count": 17,
   "metadata": {
    "collapsed": false
   },
   "outputs": [
    {
     "data": {
      "text/plain": [
       "13.1102608224"
      ]
     },
     "execution_count": 17,
     "metadata": {},
     "output_type": "execute_result"
    }
   ],
   "source": [
    "(0.6009517335 - 0.5229144667) * 7 * 24"
   ]
  },
  {
   "cell_type": "code",
   "execution_count": 21,
   "metadata": {
    "collapsed": false
   },
   "outputs": [
    {
     "name": "stdout",
     "output_type": "stream",
     "text": [
      "100.0\n",
      "48217.0\n",
      "219.583697027\n"
     ]
    }
   ],
   "source": [
    "def Pumpkin():\n",
    "    data = [1, 1, 1, 3, 3, 591]\n",
    "    mu, var = ts.MeanVar(data)\n",
    "    print mu\n",
    "    print var\n",
    "    print np.sqrt(var)\n",
    "    \n",
    "Pumpkin()"
   ]
  },
  {
   "cell_type": "code",
   "execution_count": null,
   "metadata": {
    "collapsed": true
   },
   "outputs": [],
   "source": []
  }
 ],
 "metadata": {
  "kernelspec": {
   "display_name": "Python 2",
   "language": "python",
   "name": "python2"
  },
  "language_info": {
   "codemirror_mode": {
    "name": "ipython",
    "version": 2
   },
   "file_extension": ".py",
   "mimetype": "text/x-python",
   "name": "python",
   "nbconvert_exporter": "python",
   "pygments_lexer": "ipython2",
   "version": "2.7.13"
  }
 },
 "nbformat": 4,
 "nbformat_minor": 2
}
